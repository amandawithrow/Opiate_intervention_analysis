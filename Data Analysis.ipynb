{
 "cells": [
  {
   "cell_type": "markdown",
   "metadata": {},
   "source": [
    "# Data analysis using completely cleaned data ONLY"
   ]
  },
  {
   "cell_type": "code",
   "execution_count": 1,
   "metadata": {},
   "outputs": [],
   "source": [
    "import pandas as pd\n",
    "\n",
    "number_of_deaths = pd.read_csv(\"clean data/2018_deaths_clean.csv\") # good\n",
    "hotline_calls = pd.read_csv(\"Clean Data/county_hotline_calls_2018.csv\") # good\n",
    "drug_boxes = pd.read_csv(\"Clean Data/drug_boxes_by_county.csv\") # good\n",
    "pa_population = pd.read_csv(\"clean data/PA_population_clean.csv\") # good\n",
    "od_deaths = pd.read_csv(\"clean data/OD_Deaths_Cleaned_More.csv\") # good\n",
    "emergency_od_visits = pd.read_csv(\"Clean Data/further_cleaned_od_ed_visits_2018.csv\") # Unclear Column names, needs more cleaning"
   ]
  },
  {
   "cell_type": "code",
   "execution_count": 2,
   "metadata": {},
   "outputs": [
    {
     "data": {
      "text/plain": [
       "(68, 2)"
      ]
     },
     "execution_count": 2,
     "metadata": {},
     "output_type": "execute_result"
    }
   ],
   "source": [
    "number_of_deaths.shape\n",
    "number_of_deaths.head()\n"
   ]
  },
  {
   "cell_type": "code",
   "execution_count": 34,
   "metadata": {},
   "outputs": [
    {
     "data": {
      "text/plain": [
       "(68, 14)"
      ]
     },
     "execution_count": 34,
     "metadata": {},
     "output_type": "execute_result"
    }
   ],
   "source": [
    "hotline_calls.head()\n",
    "hotline_calls.shape"
   ]
  },
  {
   "cell_type": "code",
   "execution_count": 35,
   "metadata": {},
   "outputs": [
    {
     "data": {
      "text/plain": [
       "(68, 2)"
      ]
     },
     "execution_count": 35,
     "metadata": {},
     "output_type": "execute_result"
    }
   ],
   "source": [
    "drug_boxes.head()\n",
    "drug_boxes.shape"
   ]
  },
  {
   "cell_type": "code",
   "execution_count": 40,
   "metadata": {},
   "outputs": [
    {
     "data": {
      "text/plain": [
       "(67, 2)"
      ]
     },
     "execution_count": 40,
     "metadata": {},
     "output_type": "execute_result"
    }
   ],
   "source": [
    "pa_population.head()\n",
    "pa_population.shape ## Does not have state total"
   ]
  },
  {
   "cell_type": "code",
   "execution_count": 37,
   "metadata": {},
   "outputs": [
    {
     "data": {
      "text/plain": [
       "(68, 3)"
      ]
     },
     "execution_count": 37,
     "metadata": {},
     "output_type": "execute_result"
    }
   ],
   "source": [
    "od_deaths.head()\n",
    "od_deaths.shape"
   ]
  },
  {
   "cell_type": "code",
   "execution_count": 38,
   "metadata": {},
   "outputs": [
    {
     "data": {
      "text/plain": [
       "(68, 5)"
      ]
     },
     "execution_count": 38,
     "metadata": {},
     "output_type": "execute_result"
    }
   ],
   "source": [
    "emergency_od_visits.head()\n",
    "emergency_od_visits.shape"
   ]
  },
  {
   "cell_type": "code",
   "execution_count": 48,
   "metadata": {
    "scrolled": false
   },
   "outputs": [
    {
     "data": {
      "text/html": [
       "<div>\n",
       "<style scoped>\n",
       "    .dataframe tbody tr th:only-of-type {\n",
       "        vertical-align: middle;\n",
       "    }\n",
       "\n",
       "    .dataframe tbody tr th {\n",
       "        vertical-align: top;\n",
       "    }\n",
       "\n",
       "    .dataframe thead th {\n",
       "        text-align: right;\n",
       "    }\n",
       "</style>\n",
       "<table border=\"1\" class=\"dataframe\">\n",
       "  <thead>\n",
       "    <tr style=\"text-align: right;\">\n",
       "      <th></th>\n",
       "      <th>County</th>\n",
       "      <th>death_count</th>\n",
       "      <th>2018</th>\n",
       "      <th>Jan18</th>\n",
       "      <th>Feb18</th>\n",
       "      <th>Mar18</th>\n",
       "      <th>Apr18</th>\n",
       "      <th>May18</th>\n",
       "      <th>Jun18</th>\n",
       "      <th>Jul18</th>\n",
       "      <th>...</th>\n",
       "      <th>Nov18</th>\n",
       "      <th>Dec18</th>\n",
       "      <th>Number Boxes</th>\n",
       "      <th>2019 Population</th>\n",
       "      <th>Any Drug Overdose Deaths</th>\n",
       "      <th>Opioid Overdose Deaths</th>\n",
       "      <th>Annual Any Overdose ED Rate by Visit</th>\n",
       "      <th>Annual Opioid Overdose ED Rate by Visit</th>\n",
       "      <th>Annual Any Overdose ED Rate by Population</th>\n",
       "      <th>Annual Opioid Overdose ED Rate by Population</th>\n",
       "    </tr>\n",
       "  </thead>\n",
       "  <tbody>\n",
       "    <tr>\n",
       "      <th>0</th>\n",
       "      <td>Pennsylvania</td>\n",
       "      <td>134571.0</td>\n",
       "      <td>NaN</td>\n",
       "      <td>NaN</td>\n",
       "      <td>NaN</td>\n",
       "      <td>NaN</td>\n",
       "      <td>NaN</td>\n",
       "      <td>NaN</td>\n",
       "      <td>NaN</td>\n",
       "      <td>NaN</td>\n",
       "      <td>...</td>\n",
       "      <td>NaN</td>\n",
       "      <td>NaN</td>\n",
       "      <td>NaN</td>\n",
       "      <td>NaN</td>\n",
       "      <td>4413.0</td>\n",
       "      <td>3915.0</td>\n",
       "      <td>78.032502</td>\n",
       "      <td>17.122122</td>\n",
       "      <td>8.643136</td>\n",
       "      <td>1.916749</td>\n",
       "    </tr>\n",
       "    <tr>\n",
       "      <th>1</th>\n",
       "      <td>Adams</td>\n",
       "      <td>1055.0</td>\n",
       "      <td>27.0</td>\n",
       "      <td>1.0</td>\n",
       "      <td>2.0</td>\n",
       "      <td>4.0</td>\n",
       "      <td>0.0</td>\n",
       "      <td>4.0</td>\n",
       "      <td>3.0</td>\n",
       "      <td>3.0</td>\n",
       "      <td>...</td>\n",
       "      <td>1.0</td>\n",
       "      <td>2.0</td>\n",
       "      <td>11.0</td>\n",
       "      <td>102,811</td>\n",
       "      <td>16.0</td>\n",
       "      <td>16.0</td>\n",
       "      <td>63.240638</td>\n",
       "      <td>8.554991</td>\n",
       "      <td>6.473773</td>\n",
       "      <td>1.001853</td>\n",
       "    </tr>\n",
       "    <tr>\n",
       "      <th>2</th>\n",
       "      <td>Allegheny</td>\n",
       "      <td>14051.0</td>\n",
       "      <td>1003.0</td>\n",
       "      <td>71.0</td>\n",
       "      <td>77.0</td>\n",
       "      <td>99.0</td>\n",
       "      <td>122.0</td>\n",
       "      <td>93.0</td>\n",
       "      <td>58.0</td>\n",
       "      <td>95.0</td>\n",
       "      <td>...</td>\n",
       "      <td>57.0</td>\n",
       "      <td>116.0</td>\n",
       "      <td>38.0</td>\n",
       "      <td>1,218,452</td>\n",
       "      <td>487.0</td>\n",
       "      <td>411.0</td>\n",
       "      <td>73.271708</td>\n",
       "      <td>18.053902</td>\n",
       "      <td>8.249881</td>\n",
       "      <td>2.152409</td>\n",
       "    </tr>\n",
       "    <tr>\n",
       "      <th>3</th>\n",
       "      <td>Armstrong</td>\n",
       "      <td>855.0</td>\n",
       "      <td>22.0</td>\n",
       "      <td>1.0</td>\n",
       "      <td>3.0</td>\n",
       "      <td>3.0</td>\n",
       "      <td>0.0</td>\n",
       "      <td>0.0</td>\n",
       "      <td>2.0</td>\n",
       "      <td>1.0</td>\n",
       "      <td>...</td>\n",
       "      <td>2.0</td>\n",
       "      <td>5.0</td>\n",
       "      <td>9.0</td>\n",
       "      <td>65,263</td>\n",
       "      <td>22.0</td>\n",
       "      <td>21.0</td>\n",
       "      <td>33.592188</td>\n",
       "      <td>2.753188</td>\n",
       "      <td>7.388562</td>\n",
       "      <td>1.942354</td>\n",
       "    </tr>\n",
       "    <tr>\n",
       "      <th>4</th>\n",
       "      <td>Beaver</td>\n",
       "      <td>2185.0</td>\n",
       "      <td>121.0</td>\n",
       "      <td>11.0</td>\n",
       "      <td>12.0</td>\n",
       "      <td>9.0</td>\n",
       "      <td>15.0</td>\n",
       "      <td>12.0</td>\n",
       "      <td>9.0</td>\n",
       "      <td>7.0</td>\n",
       "      <td>...</td>\n",
       "      <td>9.0</td>\n",
       "      <td>13.0</td>\n",
       "      <td>16.0</td>\n",
       "      <td>164,742</td>\n",
       "      <td>43.0</td>\n",
       "      <td>40.0</td>\n",
       "      <td>66.888480</td>\n",
       "      <td>2.022103</td>\n",
       "      <td>7.719393</td>\n",
       "      <td>0.662092</td>\n",
       "    </tr>\n",
       "  </tbody>\n",
       "</table>\n",
       "<p>5 rows × 23 columns</p>\n",
       "</div>"
      ],
      "text/plain": [
       "         County  death_count    2018  Jan18  Feb18  Mar18  Apr18  May18  \\\n",
       "0  Pennsylvania     134571.0     NaN    NaN    NaN    NaN    NaN    NaN   \n",
       "1         Adams       1055.0    27.0    1.0    2.0    4.0    0.0    4.0   \n",
       "2     Allegheny      14051.0  1003.0   71.0   77.0   99.0  122.0   93.0   \n",
       "3     Armstrong        855.0    22.0    1.0    3.0    3.0    0.0    0.0   \n",
       "4        Beaver       2185.0   121.0   11.0   12.0    9.0   15.0   12.0   \n",
       "\n",
       "   Jun18  Jul18  ...  Nov18  Dec18  Number Boxes  2019 Population   \\\n",
       "0    NaN    NaN  ...    NaN    NaN           NaN               NaN   \n",
       "1    3.0    3.0  ...    1.0    2.0          11.0           102,811   \n",
       "2   58.0   95.0  ...   57.0  116.0          38.0         1,218,452   \n",
       "3    2.0    1.0  ...    2.0    5.0           9.0            65,263   \n",
       "4    9.0    7.0  ...    9.0   13.0          16.0           164,742   \n",
       "\n",
       "   Any Drug Overdose Deaths  Opioid Overdose Deaths  \\\n",
       "0                    4413.0                  3915.0   \n",
       "1                      16.0                    16.0   \n",
       "2                     487.0                   411.0   \n",
       "3                      22.0                    21.0   \n",
       "4                      43.0                    40.0   \n",
       "\n",
       "  Annual Any Overdose ED Rate by Visit  \\\n",
       "0                            78.032502   \n",
       "1                            63.240638   \n",
       "2                            73.271708   \n",
       "3                            33.592188   \n",
       "4                            66.888480   \n",
       "\n",
       "   Annual Opioid Overdose ED Rate by Visit  \\\n",
       "0                                17.122122   \n",
       "1                                 8.554991   \n",
       "2                                18.053902   \n",
       "3                                 2.753188   \n",
       "4                                 2.022103   \n",
       "\n",
       "   Annual Any Overdose ED Rate by Population  \\\n",
       "0                                   8.643136   \n",
       "1                                   6.473773   \n",
       "2                                   8.249881   \n",
       "3                                   7.388562   \n",
       "4                                   7.719393   \n",
       "\n",
       "   Annual Opioid Overdose ED Rate by Population  \n",
       "0                                      1.916749  \n",
       "1                                      1.001853  \n",
       "2                                      2.152409  \n",
       "3                                      1.942354  \n",
       "4                                      0.662092  \n",
       "\n",
       "[5 rows x 23 columns]"
      ]
     },
     "execution_count": 48,
     "metadata": {},
     "output_type": "execute_result"
    }
   ],
   "source": [
    "merged_1 = pd.merge(number_of_deaths, hotline_calls, on='County', how='outer')\n",
    "merged_2 = pd.merge(merged_1, drug_boxes, on='County', how='outer')\n",
    "merged_3 = pd.merge(merged_2, pa_population, on='County', how='outer')\n",
    "merged_4 = pd.merge(merged_3, od_deaths, on='County', how='outer')\n",
    "opioid_pa_df = pd.merge(merged_4, emergency_od_visits, on='County', how='outer')\n",
    "\n",
    "opioid_pa_df.head()\n",
    "# Opioid_pa_df = pd.merge(number_of_deaths, hotline_calls, drug_boxes, pa_population, od_deaths, emergency_od_visits, on='County', how='Outer')"
   ]
  },
  {
   "cell_type": "code",
   "execution_count": 52,
   "metadata": {},
   "outputs": [
    {
     "data": {
      "text/plain": [
       "(70, 23)"
      ]
     },
     "execution_count": 52,
     "metadata": {},
     "output_type": "execute_result"
    }
   ],
   "source": [
    "opioid_pa_df = opioid_pa_df.sort_values(by='County')\n",
    "opioid_pa_df.shape"
   ]
  },
  {
   "cell_type": "code",
   "execution_count": null,
   "metadata": {},
   "outputs": [],
   "source": []
  }
 ],
 "metadata": {
  "kernelspec": {
   "display_name": "Python 3",
   "language": "python",
   "name": "python3"
  },
  "language_info": {
   "codemirror_mode": {
    "name": "ipython",
    "version": 3
   },
   "file_extension": ".py",
   "mimetype": "text/x-python",
   "name": "python",
   "nbconvert_exporter": "python",
   "pygments_lexer": "ipython3",
   "version": "3.6.9"
  }
 },
 "nbformat": 4,
 "nbformat_minor": 2
}
