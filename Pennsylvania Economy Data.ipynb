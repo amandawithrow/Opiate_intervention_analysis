{
 "cells": [
  {
   "cell_type": "markdown",
   "metadata": {},
   "source": [
    "# Pennsylvania Economy and Quality of Life Data by county\n",
    "### Using data about the accumulative debts, average wages, degrees completed in the state, market value, and jobs to be created."
   ]
  },
  {
   "cell_type": "code",
   "execution_count": 63,
   "metadata": {},
   "outputs": [],
   "source": [
    "#Importing packages\n",
    "import pandas as pd\n",
    "from sodapy import Socrata\n",
    "from keys import MyAppToken\n",
    "import requests"
   ]
  },
  {
   "cell_type": "code",
   "execution_count": 102,
   "metadata": {
    "scrolled": true
   },
   "outputs": [],
   "source": [
    "#Boilerplate for using Socrata API data\n",
    "client = Socrata(\"data.pa.gov\", MyAppToken)\n",
    "\n",
    "# #Import Data from different APIs'\n",
    "# ## Municipality Total Debt 2015 Community and Economic Development\n",
    "# debt_list = client.get(\"rihr-yjcp\")\n",
    "\n",
    "# # Convert to pandas DataFrame\n",
    "# debt = pd.DataFrame.from_records(debt_list)\n",
    "\n",
    "# # # # # # # # # #\n",
    "\n",
    "## School District Yearly Market Value Report Certified 2016 Community and Economic Development\n",
    "market_value_list = client.get(\"miq6-hsyp\")\n",
    "\n",
    "# Convert to pandas DataFrame\n",
    "market_value = pd.DataFrame.from_records(market_value_list)\n",
    "\n",
    "# # # # # # # # # #\n",
    "\n",
    "## All Jobs January 2015 To October 2016 Community and Economic Development\n",
    "job_list = client.get(\"d5pf-ti7w\")\n",
    "\n",
    "# Convert to pandas DataFrame\n",
    "job_creation = pd.DataFrame.from_records(jobs_list)\n",
    "\n",
    "# # # # # # # # # #\n",
    "\n",
    "## Occupational Wages 2017 Labor and Industry\n",
    "wages_list = client.get(\"mdvn-squs\")\n",
    "\n",
    "# Convert to pandas DataFrame\n",
    "wages = pd.DataFrame.from_records(wages_list)\n"
   ]
  },
  {
   "cell_type": "markdown",
   "metadata": {},
   "source": [
    "## Bureau of Labor Statistics API\n",
    "#### (Trying to figure out how)"
   ]
  },
  {
   "cell_type": "code",
   "execution_count": 77,
   "metadata": {
    "scrolled": true
   },
   "outputs": [
    {
     "ename": "JSONDecodeError",
     "evalue": "Expecting value: line 1 column 1 (char 0)",
     "output_type": "error",
     "traceback": [
      "\u001b[1;31m---------------------------------------------------------------------------\u001b[0m",
      "\u001b[1;31mJSONDecodeError\u001b[0m                           Traceback (most recent call last)",
      "\u001b[1;32m<ipython-input-77-d534a2207a46>\u001b[0m in \u001b[0;36m<module>\u001b[1;34m\u001b[0m\n\u001b[0;32m      3\u001b[0m \u001b[0mseries_id\u001b[0m \u001b[1;33m=\u001b[0m \u001b[1;33m{\u001b[0m\u001b[1;34m'series_id'\u001b[0m\u001b[1;33m:\u001b[0m\u001b[1;33m[\u001b[0m\u001b[1;34m\"ENU4200110010\"\u001b[0m\u001b[1;33m,\u001b[0m \u001b[1;34m\"ENU4200310010\"\u001b[0m\u001b[1;33m,\u001b[0m \u001b[1;34m\"ENU4200510010\"\u001b[0m\u001b[1;33m,\u001b[0m \u001b[1;34m\"ENU4200710010\"\u001b[0m\u001b[1;33m,\u001b[0m \u001b[1;34m\"ENU4200910010\"\u001b[0m\u001b[1;33m,\u001b[0m \u001b[1;34m\"ENU4201110010\"\u001b[0m\u001b[1;33m,\u001b[0m \u001b[1;34m\"ENU4201310010\"\u001b[0m\u001b[1;33m,\u001b[0m \u001b[1;34m\"ENU4201510010\"\u001b[0m\u001b[1;33m,\u001b[0m \u001b[1;34m\"ENU4201710010\"\u001b[0m\u001b[1;33m,\u001b[0m \u001b[1;34m\"ENU4201910010\"\u001b[0m\u001b[1;33m,\u001b[0m \u001b[1;34m\"ENU4202110010\"\u001b[0m\u001b[1;33m,\u001b[0m \u001b[1;34m\"ENU4202310010\"\u001b[0m\u001b[1;33m,\u001b[0m \u001b[1;34m\"ENU4202510010\"\u001b[0m\u001b[1;33m,\u001b[0m \u001b[1;34m\"ENU4202710010\"\u001b[0m\u001b[1;33m,\u001b[0m \u001b[1;34m\"ENU4202910010\"\u001b[0m\u001b[1;33m,\u001b[0m \u001b[1;34m\"ENU4203110010\"\u001b[0m\u001b[1;33m,\u001b[0m \u001b[1;34m\"ENU4203310010\"\u001b[0m\u001b[1;33m,\u001b[0m \u001b[1;34m\"ENU4203510010\"\u001b[0m\u001b[1;33m,\u001b[0m \u001b[1;34m\"ENU4203710010\"\u001b[0m\u001b[1;33m,\u001b[0m \u001b[1;34m\"ENU4203910010\"\u001b[0m\u001b[1;33m,\u001b[0m \u001b[1;34m\"ENU4204110010\"\u001b[0m\u001b[1;33m,\u001b[0m \u001b[1;34m\"ENU4204310010\"\u001b[0m\u001b[1;33m,\u001b[0m \u001b[1;34m\"ENU4204510010\"\u001b[0m\u001b[1;33m,\u001b[0m \u001b[1;34m\"ENU4204710010\"\u001b[0m\u001b[1;33m,\u001b[0m \u001b[1;34m\"ENU4204910010\"\u001b[0m\u001b[1;33m,\u001b[0m \u001b[1;34m\"ENU4205110010\"\u001b[0m\u001b[1;33m,\u001b[0m \u001b[1;34m\"ENU4205310010\"\u001b[0m\u001b[1;33m,\u001b[0m \u001b[1;34m\"ENU4205510010\"\u001b[0m\u001b[1;33m,\u001b[0m \u001b[1;34m\"ENU4205710010\"\u001b[0m\u001b[1;33m,\u001b[0m \u001b[1;34m\"ENU4205910010\"\u001b[0m\u001b[1;33m,\u001b[0m \u001b[1;34m\"ENU4206110010\"\u001b[0m\u001b[1;33m,\u001b[0m \u001b[1;34m\"ENU4206310010\"\u001b[0m\u001b[1;33m,\u001b[0m \u001b[1;34m\"ENU4206510010\"\u001b[0m\u001b[1;33m,\u001b[0m \u001b[1;34m\"ENU4206710010\"\u001b[0m\u001b[1;33m,\u001b[0m \u001b[1;34m\"ENU4206910010\"\u001b[0m\u001b[1;33m,\u001b[0m \u001b[1;34m\"ENU4207110010\"\u001b[0m\u001b[1;33m,\u001b[0m \u001b[1;34m\"ENU4207310010\"\u001b[0m\u001b[1;33m,\u001b[0m \u001b[1;34m\"ENU4207510010\"\u001b[0m\u001b[1;33m,\u001b[0m \u001b[1;34m\"ENU4207710010\"\u001b[0m\u001b[1;33m,\u001b[0m \u001b[1;34m\"ENU4207910010\"\u001b[0m\u001b[1;33m,\u001b[0m \u001b[1;34m\"ENU4208110010\"\u001b[0m\u001b[1;33m,\u001b[0m \u001b[1;34m\"ENU4208310010\"\u001b[0m\u001b[1;33m,\u001b[0m \u001b[1;34m\"ENU4208510010\"\u001b[0m\u001b[1;33m,\u001b[0m \u001b[1;34m\"ENU4208710010\"\u001b[0m\u001b[1;33m,\u001b[0m \u001b[1;34m\"ENU4208910010\"\u001b[0m\u001b[1;33m,\u001b[0m \u001b[1;34m\"ENU4209110010\"\u001b[0m\u001b[1;33m,\u001b[0m \u001b[1;34m\"ENU4209310010\"\u001b[0m\u001b[1;33m,\u001b[0m \u001b[1;34m\"ENU4209510010\"\u001b[0m\u001b[1;33m,\u001b[0m \u001b[1;34m\"ENU4209710010\"\u001b[0m\u001b[1;33m,\u001b[0m \u001b[1;34m\"ENU4209910010\"\u001b[0m\u001b[1;33m,\u001b[0m \u001b[1;34m\"ENU4210110010\"\u001b[0m\u001b[1;33m,\u001b[0m \u001b[1;34m\"ENU4210310010\"\u001b[0m\u001b[1;33m,\u001b[0m \u001b[1;34m\"ENU4210510010\"\u001b[0m\u001b[1;33m,\u001b[0m \u001b[1;34m\"ENU4210710010\"\u001b[0m\u001b[1;33m,\u001b[0m \u001b[1;34m\"ENU4210910010\"\u001b[0m\u001b[1;33m,\u001b[0m \u001b[1;34m\"ENU4211110010\"\u001b[0m\u001b[1;33m,\u001b[0m \u001b[1;34m\"ENU4211310010\"\u001b[0m\u001b[1;33m,\u001b[0m \u001b[1;34m\"ENU4211510010\"\u001b[0m\u001b[1;33m,\u001b[0m \u001b[1;34m\"ENU4211710010\"\u001b[0m\u001b[1;33m,\u001b[0m \u001b[1;34m\"ENU4211910010\"\u001b[0m\u001b[1;33m,\u001b[0m \u001b[1;34m\"ENU4212110010\"\u001b[0m\u001b[1;33m,\u001b[0m \u001b[1;34m\"ENU4212310010\"\u001b[0m\u001b[1;33m,\u001b[0m \u001b[1;34m\"ENU4212510010\"\u001b[0m\u001b[1;33m,\u001b[0m \u001b[1;34m\"ENU4212710010\"\u001b[0m\u001b[1;33m,\u001b[0m \u001b[1;34m\"ENU4212910010\"\u001b[0m\u001b[1;33m,\u001b[0m \u001b[1;34m\"ENU4213110010\"\u001b[0m\u001b[1;33m,\u001b[0m \u001b[1;34m\"ENU4213310010\"\u001b[0m\u001b[1;33m]\u001b[0m\u001b[1;33m}\u001b[0m\u001b[1;33m\u001b[0m\u001b[1;33m\u001b[0m\u001b[0m\n\u001b[0;32m      4\u001b[0m \u001b[1;33m\u001b[0m\u001b[0m\n\u001b[1;32m----> 5\u001b[1;33m \u001b[0mpenn_data\u001b[0m \u001b[1;33m=\u001b[0m \u001b[0mrequests\u001b[0m\u001b[1;33m.\u001b[0m\u001b[0mget\u001b[0m\u001b[1;33m(\u001b[0m\u001b[0murl\u001b[0m\u001b[1;33m,\u001b[0m \u001b[0mseries_id\u001b[0m\u001b[1;33m)\u001b[0m\u001b[1;33m.\u001b[0m\u001b[0mjson\u001b[0m\u001b[1;33m(\u001b[0m\u001b[1;33m)\u001b[0m\u001b[1;33m\u001b[0m\u001b[1;33m\u001b[0m\u001b[0m\n\u001b[0m",
      "\u001b[1;32m~\\Anaconda3\\envs\\PythonData\\lib\\site-packages\\requests\\models.py\u001b[0m in \u001b[0;36mjson\u001b[1;34m(self, **kwargs)\u001b[0m\n\u001b[0;32m    895\u001b[0m                     \u001b[1;31m# used.\u001b[0m\u001b[1;33m\u001b[0m\u001b[1;33m\u001b[0m\u001b[1;33m\u001b[0m\u001b[0m\n\u001b[0;32m    896\u001b[0m                     \u001b[1;32mpass\u001b[0m\u001b[1;33m\u001b[0m\u001b[1;33m\u001b[0m\u001b[0m\n\u001b[1;32m--> 897\u001b[1;33m         \u001b[1;32mreturn\u001b[0m \u001b[0mcomplexjson\u001b[0m\u001b[1;33m.\u001b[0m\u001b[0mloads\u001b[0m\u001b[1;33m(\u001b[0m\u001b[0mself\u001b[0m\u001b[1;33m.\u001b[0m\u001b[0mtext\u001b[0m\u001b[1;33m,\u001b[0m \u001b[1;33m**\u001b[0m\u001b[0mkwargs\u001b[0m\u001b[1;33m)\u001b[0m\u001b[1;33m\u001b[0m\u001b[1;33m\u001b[0m\u001b[0m\n\u001b[0m\u001b[0;32m    898\u001b[0m \u001b[1;33m\u001b[0m\u001b[0m\n\u001b[0;32m    899\u001b[0m     \u001b[1;33m@\u001b[0m\u001b[0mproperty\u001b[0m\u001b[1;33m\u001b[0m\u001b[1;33m\u001b[0m\u001b[0m\n",
      "\u001b[1;32m~\\Anaconda3\\envs\\PythonData\\lib\\json\\__init__.py\u001b[0m in \u001b[0;36mloads\u001b[1;34m(s, encoding, cls, object_hook, parse_float, parse_int, parse_constant, object_pairs_hook, **kw)\u001b[0m\n\u001b[0;32m    352\u001b[0m             \u001b[0mparse_int\u001b[0m \u001b[1;32mis\u001b[0m \u001b[1;32mNone\u001b[0m \u001b[1;32mand\u001b[0m \u001b[0mparse_float\u001b[0m \u001b[1;32mis\u001b[0m \u001b[1;32mNone\u001b[0m \u001b[1;32mand\u001b[0m\u001b[1;33m\u001b[0m\u001b[1;33m\u001b[0m\u001b[0m\n\u001b[0;32m    353\u001b[0m             parse_constant is None and object_pairs_hook is None and not kw):\n\u001b[1;32m--> 354\u001b[1;33m         \u001b[1;32mreturn\u001b[0m \u001b[0m_default_decoder\u001b[0m\u001b[1;33m.\u001b[0m\u001b[0mdecode\u001b[0m\u001b[1;33m(\u001b[0m\u001b[0ms\u001b[0m\u001b[1;33m)\u001b[0m\u001b[1;33m\u001b[0m\u001b[1;33m\u001b[0m\u001b[0m\n\u001b[0m\u001b[0;32m    355\u001b[0m     \u001b[1;32mif\u001b[0m \u001b[0mcls\u001b[0m \u001b[1;32mis\u001b[0m \u001b[1;32mNone\u001b[0m\u001b[1;33m:\u001b[0m\u001b[1;33m\u001b[0m\u001b[1;33m\u001b[0m\u001b[0m\n\u001b[0;32m    356\u001b[0m         \u001b[0mcls\u001b[0m \u001b[1;33m=\u001b[0m \u001b[0mJSONDecoder\u001b[0m\u001b[1;33m\u001b[0m\u001b[1;33m\u001b[0m\u001b[0m\n",
      "\u001b[1;32m~\\Anaconda3\\envs\\PythonData\\lib\\json\\decoder.py\u001b[0m in \u001b[0;36mdecode\u001b[1;34m(self, s, _w)\u001b[0m\n\u001b[0;32m    337\u001b[0m \u001b[1;33m\u001b[0m\u001b[0m\n\u001b[0;32m    338\u001b[0m         \"\"\"\n\u001b[1;32m--> 339\u001b[1;33m         \u001b[0mobj\u001b[0m\u001b[1;33m,\u001b[0m \u001b[0mend\u001b[0m \u001b[1;33m=\u001b[0m \u001b[0mself\u001b[0m\u001b[1;33m.\u001b[0m\u001b[0mraw_decode\u001b[0m\u001b[1;33m(\u001b[0m\u001b[0ms\u001b[0m\u001b[1;33m,\u001b[0m \u001b[0midx\u001b[0m\u001b[1;33m=\u001b[0m\u001b[0m_w\u001b[0m\u001b[1;33m(\u001b[0m\u001b[0ms\u001b[0m\u001b[1;33m,\u001b[0m \u001b[1;36m0\u001b[0m\u001b[1;33m)\u001b[0m\u001b[1;33m.\u001b[0m\u001b[0mend\u001b[0m\u001b[1;33m(\u001b[0m\u001b[1;33m)\u001b[0m\u001b[1;33m)\u001b[0m\u001b[1;33m\u001b[0m\u001b[1;33m\u001b[0m\u001b[0m\n\u001b[0m\u001b[0;32m    340\u001b[0m         \u001b[0mend\u001b[0m \u001b[1;33m=\u001b[0m \u001b[0m_w\u001b[0m\u001b[1;33m(\u001b[0m\u001b[0ms\u001b[0m\u001b[1;33m,\u001b[0m \u001b[0mend\u001b[0m\u001b[1;33m)\u001b[0m\u001b[1;33m.\u001b[0m\u001b[0mend\u001b[0m\u001b[1;33m(\u001b[0m\u001b[1;33m)\u001b[0m\u001b[1;33m\u001b[0m\u001b[1;33m\u001b[0m\u001b[0m\n\u001b[0;32m    341\u001b[0m         \u001b[1;32mif\u001b[0m \u001b[0mend\u001b[0m \u001b[1;33m!=\u001b[0m \u001b[0mlen\u001b[0m\u001b[1;33m(\u001b[0m\u001b[0ms\u001b[0m\u001b[1;33m)\u001b[0m\u001b[1;33m:\u001b[0m\u001b[1;33m\u001b[0m\u001b[1;33m\u001b[0m\u001b[0m\n",
      "\u001b[1;32m~\\Anaconda3\\envs\\PythonData\\lib\\json\\decoder.py\u001b[0m in \u001b[0;36mraw_decode\u001b[1;34m(self, s, idx)\u001b[0m\n\u001b[0;32m    355\u001b[0m             \u001b[0mobj\u001b[0m\u001b[1;33m,\u001b[0m \u001b[0mend\u001b[0m \u001b[1;33m=\u001b[0m \u001b[0mself\u001b[0m\u001b[1;33m.\u001b[0m\u001b[0mscan_once\u001b[0m\u001b[1;33m(\u001b[0m\u001b[0ms\u001b[0m\u001b[1;33m,\u001b[0m \u001b[0midx\u001b[0m\u001b[1;33m)\u001b[0m\u001b[1;33m\u001b[0m\u001b[1;33m\u001b[0m\u001b[0m\n\u001b[0;32m    356\u001b[0m         \u001b[1;32mexcept\u001b[0m \u001b[0mStopIteration\u001b[0m \u001b[1;32mas\u001b[0m \u001b[0merr\u001b[0m\u001b[1;33m:\u001b[0m\u001b[1;33m\u001b[0m\u001b[1;33m\u001b[0m\u001b[0m\n\u001b[1;32m--> 357\u001b[1;33m             \u001b[1;32mraise\u001b[0m \u001b[0mJSONDecodeError\u001b[0m\u001b[1;33m(\u001b[0m\u001b[1;34m\"Expecting value\"\u001b[0m\u001b[1;33m,\u001b[0m \u001b[0ms\u001b[0m\u001b[1;33m,\u001b[0m \u001b[0merr\u001b[0m\u001b[1;33m.\u001b[0m\u001b[0mvalue\u001b[0m\u001b[1;33m)\u001b[0m \u001b[1;32mfrom\u001b[0m \u001b[1;32mNone\u001b[0m\u001b[1;33m\u001b[0m\u001b[1;33m\u001b[0m\u001b[0m\n\u001b[0m\u001b[0;32m    358\u001b[0m         \u001b[1;32mreturn\u001b[0m \u001b[0mobj\u001b[0m\u001b[1;33m,\u001b[0m \u001b[0mend\u001b[0m\u001b[1;33m\u001b[0m\u001b[1;33m\u001b[0m\u001b[0m\n",
      "\u001b[1;31mJSONDecodeError\u001b[0m: Expecting value: line 1 column 1 (char 0)"
     ]
    }
   ],
   "source": [
    "url = 'https://api.bls.gov/publicAPI/v2/timeseries/data/'\n",
    "# latest = '?latest=true'\n",
    "\n",
    "series_id = {'seriesid':[\"ENU4200110010\", \"ENU4200310010\", \"ENU4200510010\", \"ENU4200710010\", \"ENU4200910010\", \"ENU4201110010\", \"ENU4201310010\", \"ENU4201510010\", \"ENU4201710010\", \"ENU4201910010\", \"ENU4202110010\", \"ENU4202310010\", \"ENU4202510010\", \"ENU4202710010\", \"ENU4202910010\", \"ENU4203110010\", \"ENU4203310010\", \"ENU4203510010\", \"ENU4203710010\", \"ENU4203910010\", \"ENU4204110010\", \"ENU4204310010\", \"ENU4204510010\", \"ENU4204710010\", \"ENU4204910010\", \"ENU4205110010\", \"ENU4205310010\", \"ENU4205510010\", \"ENU4205710010\", \"ENU4205910010\", \"ENU4206110010\", \"ENU4206310010\", \"ENU4206510010\", \"ENU4206710010\", \"ENU4206910010\", \"ENU4207110010\", \"ENU4207310010\", \"ENU4207510010\", \"ENU4207710010\", \"ENU4207910010\", \"ENU4208110010\", \"ENU4208310010\", \"ENU4208510010\", \"ENU4208710010\", \"ENU4208910010\", \"ENU4209110010\", \"ENU4209310010\", \"ENU4209510010\", \"ENU4209710010\", \"ENU4209910010\", \"ENU4210110010\", \"ENU4210310010\", \"ENU4210510010\", \"ENU4210710010\", \"ENU4210910010\", \"ENU4211110010\", \"ENU4211310010\", \"ENU4211510010\", \"ENU4211710010\", \"ENU4211910010\", \"ENU4212110010\", \"ENU4212310010\", \"ENU4212510010\", \"ENU4212710010\", \"ENU4212910010\", \"ENU4213110010\", \"ENU4213310010\"]}\n",
    "\n",
    "penn_data = requests.get(url, series_id).json()"
   ]
  },
  {
   "cell_type": "markdown",
   "metadata": {},
   "source": [
    "## Starting with the data"
   ]
  },
  {
   "cell_type": "markdown",
   "metadata": {},
   "source": [
    "### Job Creation and Retention for 2015 and 2016 Data\n",
    "* Data points that state how many jobs were pledged to be retained or created for that county."
   ]
  },
  {
   "cell_type": "code",
   "execution_count": 80,
   "metadata": {},
   "outputs": [
    {
     "data": {
      "text/html": [
       "<div>\n",
       "<style scoped>\n",
       "    .dataframe tbody tr th:only-of-type {\n",
       "        vertical-align: middle;\n",
       "    }\n",
       "\n",
       "    .dataframe tbody tr th {\n",
       "        vertical-align: top;\n",
       "    }\n",
       "\n",
       "    .dataframe thead th {\n",
       "        text-align: right;\n",
       "    }\n",
       "</style>\n",
       "<table border=\"1\" class=\"dataframe\">\n",
       "  <thead>\n",
       "    <tr style=\"text-align: right;\">\n",
       "      <th></th>\n",
       "      <th>jobs_pledged_total</th>\n",
       "    </tr>\n",
       "    <tr>\n",
       "      <th>countyname</th>\n",
       "      <th></th>\n",
       "    </tr>\n",
       "  </thead>\n",
       "  <tbody>\n",
       "    <tr>\n",
       "      <th>Adams</th>\n",
       "      <td>4</td>\n",
       "    </tr>\n",
       "    <tr>\n",
       "      <th>Allegheny</th>\n",
       "      <td>9151</td>\n",
       "    </tr>\n",
       "    <tr>\n",
       "      <th>Armstrong</th>\n",
       "      <td>127</td>\n",
       "    </tr>\n",
       "    <tr>\n",
       "      <th>Beaver</th>\n",
       "      <td>60</td>\n",
       "    </tr>\n",
       "    <tr>\n",
       "      <th>Bedford</th>\n",
       "      <td>12</td>\n",
       "    </tr>\n",
       "  </tbody>\n",
       "</table>\n",
       "</div>"
      ],
      "text/plain": [
       "            jobs_pledged_total\n",
       "countyname                    \n",
       "Adams                        4\n",
       "Allegheny                 9151\n",
       "Armstrong                  127\n",
       "Beaver                      60\n",
       "Bedford                     12"
      ]
     },
     "execution_count": 80,
     "metadata": {},
     "output_type": "execute_result"
    }
   ],
   "source": [
    "# Cleaning job_creation dataframe\n",
    "job_creation.head()\n",
    "\n",
    "# Drop unnecessary columns\n",
    "job_creation = job_creation.drop(columns=['year', 'month', 'total_jobs'])\n",
    "\n",
    "# Make sure numbers are a numeric type\n",
    "job_creation['jobs_pledged_to_be_created'] = pd.to_numeric(job_creation['jobs_pledged_to_be_created'])\n",
    "job_creation['jobs_pledged_to_be_retained'] = pd.to_numeric(job_creation['jobs_pledged_to_be_retained'])\n",
    "\n",
    "# Group by the county name\n",
    "job_creation_counties = job_creation.groupby('countyname').sum()\n",
    "\n",
    "# Add the columns together\n",
    "job_creation_counties['jobs_pledged_total'] = job_creation_counties['jobs_pledged_to_be_created'] + job_creation_counties['jobs_pledged_to_be_retained']\n",
    "job_creation_counties = job_creation_counties.drop(columns=['jobs_pledged_to_be_created', 'jobs_pledged_to_be_retained'])\n",
    "\n",
    "# Display dataframe\n",
    "job_creation_counties.head()"
   ]
  },
  {
   "cell_type": "markdown",
   "metadata": {},
   "source": [
    "### Average Wages for 2016***Data\n",
    "* Data points that state how much a **household** earns in that county."
   ]
  },
  {
   "cell_type": "code",
   "execution_count": 100,
   "metadata": {
    "scrolled": true
   },
   "outputs": [
    {
     "data": {
      "text/html": [
       "<div>\n",
       "<style scoped>\n",
       "    .dataframe tbody tr th:only-of-type {\n",
       "        vertical-align: middle;\n",
       "    }\n",
       "\n",
       "    .dataframe tbody tr th {\n",
       "        vertical-align: top;\n",
       "    }\n",
       "\n",
       "    .dataframe thead th {\n",
       "        text-align: right;\n",
       "    }\n",
       "</style>\n",
       "<table border=\"1\" class=\"dataframe\">\n",
       "  <thead>\n",
       "    <tr style=\"text-align: right;\">\n",
       "      <th></th>\n",
       "      <th>average_annual_wage</th>\n",
       "    </tr>\n",
       "    <tr>\n",
       "      <th>area_name</th>\n",
       "      <th></th>\n",
       "    </tr>\n",
       "  </thead>\n",
       "  <tbody>\n",
       "    <tr>\n",
       "      <th>Adams County</th>\n",
       "      <td>19200.000000</td>\n",
       "    </tr>\n",
       "    <tr>\n",
       "      <th>Allegheny County</th>\n",
       "      <td>19327.777778</td>\n",
       "    </tr>\n",
       "    <tr>\n",
       "      <th>Armstrong County</th>\n",
       "      <td>18862.500000</td>\n",
       "    </tr>\n",
       "    <tr>\n",
       "      <th>Beaver County</th>\n",
       "      <td>19283.076923</td>\n",
       "    </tr>\n",
       "    <tr>\n",
       "      <th>Bedford County</th>\n",
       "      <td>19247.619048</td>\n",
       "    </tr>\n",
       "  </tbody>\n",
       "</table>\n",
       "</div>"
      ],
      "text/plain": [
       "                  average_annual_wage\n",
       "area_name                            \n",
       "Adams County             19200.000000\n",
       "Allegheny County         19327.777778\n",
       "Armstrong County         18862.500000\n",
       "Beaver County            19283.076923\n",
       "Bedford County           19247.619048"
      ]
     },
     "execution_count": 100,
     "metadata": {},
     "output_type": "execute_result"
    }
   ],
   "source": [
    "# Cleaning job_creation dataframe\n",
    "wages.head()\n",
    "wages_by_county = []\n",
    "\n",
    "# # Drop unnecessary columns\n",
    "wages_by_county = wages.loc[:,['area_name', 'average_annual_wage']]\n",
    "\n",
    "wages_by_county['average_annual_wage'] = pd.to_numeric(wages_by_county['average_annual_wage'])\n",
    "\n",
    "wages_by_county = wages_by_county.groupby(by=['area_name']).mean()\n",
    "wages_by_county.head()"
   ]
  },
  {
   "cell_type": "code",
   "execution_count": null,
   "metadata": {},
   "outputs": [],
   "source": []
  },
  {
   "cell_type": "code",
   "execution_count": null,
   "metadata": {},
   "outputs": [],
   "source": []
  },
  {
   "cell_type": "code",
   "execution_count": null,
   "metadata": {},
   "outputs": [],
   "source": []
  },
  {
   "cell_type": "code",
   "execution_count": null,
   "metadata": {},
   "outputs": [],
   "source": []
  }
 ],
 "metadata": {
  "kernelspec": {
   "display_name": "Python 3",
   "language": "python",
   "name": "python3"
  },
  "language_info": {
   "codemirror_mode": {
    "name": "ipython",
    "version": 3
   },
   "file_extension": ".py",
   "mimetype": "text/x-python",
   "name": "python",
   "nbconvert_exporter": "python",
   "pygments_lexer": "ipython3",
   "version": "3.6.9"
  }
 },
 "nbformat": 4,
 "nbformat_minor": 2
}
