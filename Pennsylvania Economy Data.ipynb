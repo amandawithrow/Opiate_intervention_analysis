{
 "cells": [
  {
   "cell_type": "markdown",
   "metadata": {},
   "source": [
    "# Pennsylvania Economy and Quality of Life Data by county\n",
    "### Using data about the accumulative debts, average wages, degrees completed in the state, market value, and jobs to be created."
   ]
  },
  {
   "cell_type": "code",
   "execution_count": 1,
   "metadata": {},
   "outputs": [],
   "source": [
    "#Importing packages\n",
    "import pandas as pd\n",
    "from sodapy import Socrata\n",
    "from keys import MyAppToken"
   ]
  },
  {
   "cell_type": "code",
   "execution_count": 49,
   "metadata": {
    "scrolled": true
   },
   "outputs": [],
   "source": [
    "#Boilerplate for using Socrata API data\n",
    "client = Socrata(\"data.pa.gov\", MyAppToken)\n",
    "\n",
    "#Import Data from different APIs'\n",
    "## Municipality Total Debt 2015 Community and Economic Development\n",
    "debt_list = client.get(\"rihr-yjcp\")\n",
    "\n",
    "# Convert to pandas DataFrame\n",
    "debt = pd.DataFrame.from_records(debt_list)\n",
    "\n",
    "# # # # # # # # # #\n",
    "\n",
    "## School District Yearly Market Value Report Certified 2016 Community and Economic Development\n",
    "market_value_list = client.get(\"miq6-hsyp\")\n",
    "\n",
    "# Convert to pandas DataFrame\n",
    "market_value = pd.DataFrame.from_records(market_value_list)\n",
    "\n",
    "# # # # # # # # # #\n",
    "\n",
    "## All Jobs January 2015 To October 2016 Community and Economic Development\n",
    "job_list = client.get(\"d5pf-ti7w\")\n",
    "\n",
    "# Convert to pandas DataFrame\n",
    "job_creation = pd.DataFrame.from_records(jobs_list)\n",
    "\n",
    "# # # # # # # # # #\n",
    "\n",
    "## Occupational Wages 2017 Labor and Industry\n",
    "wages_list = client.get(\"mdvn-squs\")\n",
    "\n",
    "# Convert to pandas DataFrame\n",
    "wages = pd.DataFrame.from_records(wages_list)\n",
    "\n",
    "# # # # # # # # # #\n",
    "\n",
    "## Post Secondary Completions Total Awards/Degrees 2015-16 Education\n",
    "degrees_list = client.get(\"jqcu-bcsg\")\n",
    "\n",
    "# Convert to pandas DataFrame\n",
    "degrees_issued = pd.DataFrame.from_records(degrees_list)\n"
   ]
  },
  {
   "cell_type": "markdown",
   "metadata": {},
   "source": [
    "## Starting with the data"
   ]
  },
  {
   "cell_type": "markdown",
   "metadata": {},
   "source": [
    "### Job Creation and Retention for 2015 and 2016 Data"
   ]
  },
  {
   "cell_type": "code",
   "execution_count": 57,
   "metadata": {},
   "outputs": [
    {
     "data": {
      "text/html": [
       "<div>\n",
       "<style scoped>\n",
       "    .dataframe tbody tr th:only-of-type {\n",
       "        vertical-align: middle;\n",
       "    }\n",
       "\n",
       "    .dataframe tbody tr th {\n",
       "        vertical-align: top;\n",
       "    }\n",
       "\n",
       "    .dataframe thead th {\n",
       "        text-align: right;\n",
       "    }\n",
       "</style>\n",
       "<table border=\"1\" class=\"dataframe\">\n",
       "  <thead>\n",
       "    <tr style=\"text-align: right;\">\n",
       "      <th></th>\n",
       "      <th>jobs_pledged_total</th>\n",
       "    </tr>\n",
       "    <tr>\n",
       "      <th>countyname</th>\n",
       "      <th></th>\n",
       "    </tr>\n",
       "  </thead>\n",
       "  <tbody>\n",
       "    <tr>\n",
       "      <th>Adams</th>\n",
       "      <td>4</td>\n",
       "    </tr>\n",
       "    <tr>\n",
       "      <th>Allegheny</th>\n",
       "      <td>9151</td>\n",
       "    </tr>\n",
       "    <tr>\n",
       "      <th>Armstrong</th>\n",
       "      <td>127</td>\n",
       "    </tr>\n",
       "    <tr>\n",
       "      <th>Beaver</th>\n",
       "      <td>60</td>\n",
       "    </tr>\n",
       "    <tr>\n",
       "      <th>Bedford</th>\n",
       "      <td>12</td>\n",
       "    </tr>\n",
       "  </tbody>\n",
       "</table>\n",
       "</div>"
      ],
      "text/plain": [
       "            jobs_pledged_total\n",
       "countyname                    \n",
       "Adams                        4\n",
       "Allegheny                 9151\n",
       "Armstrong                  127\n",
       "Beaver                      60\n",
       "Bedford                     12"
      ]
     },
     "execution_count": 57,
     "metadata": {},
     "output_type": "execute_result"
    }
   ],
   "source": [
    "# Cleaning job_creation dataframe\n",
    "job_creation.head()\n",
    "\n",
    "# Drop unnecessary columns\n",
    "# job_creation = job_creation.drop(columns=['year', 'month', 'total_jobs'])\n",
    "\n",
    "# Make sure numbers are a numeric type\n",
    "job_creation['jobs_pledged_to_be_created'] = pd.to_numeric(job_creation['jobs_pledged_to_be_created'])\n",
    "job_creation['jobs_pledged_to_be_retained'] = pd.to_numeric(job_creation['jobs_pledged_to_be_retained'])\n",
    "\n",
    "# Group by the county name\n",
    "job_creation_countys = job_creation.groupby('countyname').sum()\n",
    "\n",
    "# Add the columns together\n",
    "job_creation_countys['jobs_pledged_total'] = job_creation_countys['jobs_pledged_to_be_created'] + job_creation_countys['jobs_pledged_to_be_retained']\n",
    "job_creation_countys = job_creation_countys.drop(columns=['jobs_pledged_to_be_created', 'jobs_pledged_to_be_retained'])\n",
    "\n",
    "# Display dataframe\n",
    "job_creation_countys.head()"
   ]
  },
  {
   "cell_type": "code",
   "execution_count": null,
   "metadata": {},
   "outputs": [],
   "source": []
  },
  {
   "cell_type": "code",
   "execution_count": null,
   "metadata": {},
   "outputs": [],
   "source": []
  },
  {
   "cell_type": "code",
   "execution_count": null,
   "metadata": {},
   "outputs": [],
   "source": []
  },
  {
   "cell_type": "code",
   "execution_count": null,
   "metadata": {},
   "outputs": [],
   "source": []
  },
  {
   "cell_type": "code",
   "execution_count": null,
   "metadata": {},
   "outputs": [],
   "source": []
  }
 ],
 "metadata": {
  "kernelspec": {
   "display_name": "Python 3",
   "language": "python",
   "name": "python3"
  },
  "language_info": {
   "codemirror_mode": {
    "name": "ipython",
    "version": 3
   },
   "file_extension": ".py",
   "mimetype": "text/x-python",
   "name": "python",
   "nbconvert_exporter": "python",
   "pygments_lexer": "ipython3",
   "version": "3.6.9"
  }
 },
 "nbformat": 4,
 "nbformat_minor": 2
}
